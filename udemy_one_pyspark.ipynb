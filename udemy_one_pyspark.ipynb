{
  "nbformat": 4,
  "nbformat_minor": 0,
  "metadata": {
    "colab": {
      "name": "udemy_one_pyspark",
      "provenance": [],
      "authorship_tag": "ABX9TyOJT+rkPS/pNCQkUTBEaykI",
      "include_colab_link": true
    },
    "kernelspec": {
      "name": "python3",
      "display_name": "Python 3"
    },
    "language_info": {
      "name": "python"
    }
  },
  "cells": [
    {
      "cell_type": "markdown",
      "metadata": {
        "id": "view-in-github",
        "colab_type": "text"
      },
      "source": [
        "<a href=\"https://colab.research.google.com/github/santoshsk2005/pythony_sparky/blob/main/udemy_one_pyspark.ipynb\" target=\"_parent\"><img src=\"https://colab.research.google.com/assets/colab-badge.svg\" alt=\"Open In Colab\"/></a>"
      ]
    },
    {
      "cell_type": "code",
      "metadata": {
        "colab": {
          "base_uri": "https://localhost:8080/",
          "height": 746
        },
        "id": "KB913cP1IMX4",
        "outputId": "7f04942d-5fbc-432b-8241-3c699b4b2c34"
      },
      "source": [
        "!apt-get update\n",
        "!apt-get install openjdk-8-jdk-headless -qq > /dev/null\n",
        "!wget -q http://archive.apache.org/dist/spark/spark-2.3.1/spark-2.3.1-bin-hadoop2.7.tgz\n",
        "!tar xf spark-2.3.1-bin-hadoop2.7.tgz\n",
        "!pip install -q findspark\n",
        "\n",
        "import os\n",
        "os.environ[\"JAVA_HOME\"] = \"/usr/lib/jvm/java-8-openjdk-amd64\"\n",
        "os.environ[\"SPARK_HOME\"] = \"/content/spark-2.3.1-bin-hadoop2.7\"\n",
        "\n",
        "!ls\n",
        "\n",
        "import findspark\n",
        "findspark.init()\n",
        "\n",
        "import pyspark\n",
        "from pyspark.sql import SparkSession\n",
        "spark = SparkSession.builder.getOrCreate() \n",
        "spark"
      ],
      "execution_count": 1,
      "outputs": [
        {
          "output_type": "stream",
          "text": [
            "Get:1 http://security.ubuntu.com/ubuntu bionic-security InRelease [88.7 kB]\n",
            "Get:2 https://cloud.r-project.org/bin/linux/ubuntu bionic-cran40/ InRelease [3,626 B]\n",
            "Ign:3 https://developer.download.nvidia.com/compute/cuda/repos/ubuntu1804/x86_64  InRelease\n",
            "Hit:4 http://archive.ubuntu.com/ubuntu bionic InRelease\n",
            "Get:5 http://ppa.launchpad.net/c2d4u.team/c2d4u4.0+/ubuntu bionic InRelease [15.9 kB]\n",
            "Ign:6 https://developer.download.nvidia.com/compute/machine-learning/repos/ubuntu1804/x86_64  InRelease\n",
            "Get:7 https://developer.download.nvidia.com/compute/cuda/repos/ubuntu1804/x86_64  Release [697 B]\n",
            "Hit:8 https://developer.download.nvidia.com/compute/machine-learning/repos/ubuntu1804/x86_64  Release\n",
            "Get:9 https://developer.download.nvidia.com/compute/cuda/repos/ubuntu1804/x86_64  Release.gpg [836 B]\n",
            "Get:10 http://archive.ubuntu.com/ubuntu bionic-updates InRelease [88.7 kB]\n",
            "Get:11 http://security.ubuntu.com/ubuntu bionic-security/main amd64 Packages [2,152 kB]\n",
            "Hit:12 http://ppa.launchpad.net/cran/libgit2/ubuntu bionic InRelease\n",
            "Get:13 http://security.ubuntu.com/ubuntu bionic-security/restricted amd64 Packages [423 kB]\n",
            "Get:14 http://archive.ubuntu.com/ubuntu bionic-backports InRelease [74.6 kB]\n",
            "Get:15 http://security.ubuntu.com/ubuntu bionic-security/universe amd64 Packages [1,412 kB]\n",
            "Hit:16 http://ppa.launchpad.net/deadsnakes/ppa/ubuntu bionic InRelease\n",
            "Get:17 https://cloud.r-project.org/bin/linux/ubuntu bionic-cran40/ Packages [60.9 kB]\n",
            "Get:18 http://ppa.launchpad.net/graphics-drivers/ppa/ubuntu bionic InRelease [21.3 kB]\n",
            "Ign:20 https://developer.download.nvidia.com/compute/cuda/repos/ubuntu1804/x86_64  Packages\n",
            "Get:20 https://developer.download.nvidia.com/compute/cuda/repos/ubuntu1804/x86_64  Packages [798 kB]\n",
            "Get:21 http://ppa.launchpad.net/c2d4u.team/c2d4u4.0+/ubuntu bionic/main Sources [1,769 kB]\n",
            "Get:22 http://archive.ubuntu.com/ubuntu bionic-updates/main amd64 Packages [2,583 kB]\n",
            "Get:23 http://ppa.launchpad.net/c2d4u.team/c2d4u4.0+/ubuntu bionic/main amd64 Packages [905 kB]\n",
            "Get:24 http://archive.ubuntu.com/ubuntu bionic-updates/restricted amd64 Packages [452 kB]\n",
            "Get:25 http://archive.ubuntu.com/ubuntu bionic-updates/universe amd64 Packages [2,183 kB]\n",
            "Get:26 http://ppa.launchpad.net/graphics-drivers/ppa/ubuntu bionic/main amd64 Packages [41.5 kB]\n",
            "Fetched 13.1 MB in 4s (3,690 kB/s)\n",
            "Reading package lists... Done\n",
            "original.csv  spark-2.3.1-bin-hadoop2.7\n",
            "sample_data   spark-2.3.1-bin-hadoop2.7.tgz\n"
          ],
          "name": "stdout"
        },
        {
          "output_type": "execute_result",
          "data": {
            "text/html": [
              "\n",
              "            <div>\n",
              "                <p><b>SparkSession - in-memory</b></p>\n",
              "                \n",
              "        <div>\n",
              "            <p><b>SparkContext</b></p>\n",
              "\n",
              "            <p><a href=\"http://34c729355aa5:4040\">Spark UI</a></p>\n",
              "\n",
              "            <dl>\n",
              "              <dt>Version</dt>\n",
              "                <dd><code>v2.3.1</code></dd>\n",
              "              <dt>Master</dt>\n",
              "                <dd><code>local[*]</code></dd>\n",
              "              <dt>AppName</dt>\n",
              "                <dd><code>pyspark-shell</code></dd>\n",
              "            </dl>\n",
              "        </div>\n",
              "        \n",
              "            </div>\n",
              "        "
            ],
            "text/plain": [
              "<pyspark.sql.session.SparkSession at 0x7ff40cda2550>"
            ]
          },
          "metadata": {
            "tags": []
          },
          "execution_count": 1
        }
      ]
    },
    {
      "cell_type": "code",
      "metadata": {
        "id": "UrgpXGnoJvDF"
      },
      "source": [
        "mydata = spark.read.format(\"csv\").option(\"header\",\"true\").load(\"original.csv\")"
      ],
      "execution_count": 3,
      "outputs": []
    },
    {
      "cell_type": "code",
      "metadata": {
        "colab": {
          "base_uri": "https://localhost:8080/"
        },
        "id": "KB040OzIKxkY",
        "outputId": "33d235f9-bc8d-41c6-acfe-4f5a258c5143"
      },
      "source": [
        "mydata.show()"
      ],
      "execution_count": 4,
      "outputs": [
        {
          "output_type": "stream",
          "text": [
            "+---+----------+----------+------+---------------+--------------------+---------+----------+-----------+\n",
            "| id|first_name| last_name|gender|           City|            JobTitle|   Salary|  Latitude|  Longitude|\n",
            "+---+----------+----------+------+---------------+--------------------+---------+----------+-----------+\n",
            "|  1|   Melinde| Shilburne|Female|      Nowa Ruda| Assistant Professor|$57438.18|50.5774075| 16.4967184|\n",
            "|  2|  Kimberly|Von Welden|Female|         Bulgan|       Programmer II|$62846.60|48.8231572|103.5218199|\n",
            "|  3|    Alvera|  Di Boldi|Female|           null|                null|$57576.52|39.9947462|116.3397725|\n",
            "|  4|   Shannon| O'Griffin|  Male|  Divnomorskoye|Budget/Accounting...|$61489.23|44.5047212| 38.1300171|\n",
            "|  5|  Sherwood|   Macieja|  Male|      Mytishchi|            VP Sales|$63863.09|      null| 37.6489954|\n",
            "|  6|     Maris|      Folk|Female|Kinsealy-Drinan|      Civil Engineer|$30101.16|53.4266145| -6.1644997|\n",
            "|  7|     Masha|    Divers|Female|         Dachun|                null|$25090.87| 24.879416| 118.930111|\n",
            "|  8|   Goddart|     Flear|  Male|      Trélissac|Desktop Support T...|$46116.36|45.1905186|  0.7423124|\n",
            "|  9|      Roth|O'Cannavan|  Male|         Heitan|VP Product Manage...|$73697.10| 32.027934| 106.657113|\n",
            "| 10|      Bran|   Trahear|  Male|       Arbeláez|Mechanical System...|$68098.42|  4.272793| -74.416014|\n",
            "| 11|    Kylynn|   Lockart|Female|       El Cardo|Nuclear Power Eng...|$13604.63|     -5.85|-79.8833329|\n",
            "| 12|       Rey|    Meharg|Female|    Wangqingtuo|Systems Administr...|$73423.70| 39.172378| 116.931607|\n",
            "| 13|      Kerr|    Braden|  Male|      Sułkowice|Compensation Analyst|$33432.99|49.8151822| 19.3771749|\n",
            "| 14|    Mickie| Whanstall|  Male|    Springfield|Assistant Media P...|$50838.53|42.1014803|-72.5766759|\n",
            "| 15|    Kaspar|     Pally|  Male|         Chrást|  Analyst Programmer|$40163.03|49.7923299| 13.4915324|\n",
            "| 16|    Norbie|    Gwyllt|  Male|         Xijiao|              Editor|$32492.73|43.4945737|  5.8978018|\n",
            "| 17|    Claude|    Briant|Female|      Mieścisko|Research Assistan...|$51862.48|52.7441662| 17.3278637|\n",
            "| 18|     Thain|    Habbon|  Male| Foros do Trapo|     Design Engineer|$42135.67| 38.696249| -8.7098337|\n",
            "| 19|  Tiffanie|  Pattison|Female|    Jabungsisir|Senior Financial ...|$91925.08|-7.7232567|113.4686802|\n",
            "| 20|    Ettore|  Gerriets|  Male|          Pedra| Staff Accountant IV|$73921.33|40.7172049| -8.3625148|\n",
            "+---+----------+----------+------+---------------+--------------------+---------+----------+-----------+\n",
            "only showing top 20 rows\n",
            "\n"
          ],
          "name": "stdout"
        }
      ]
    },
    {
      "cell_type": "code",
      "metadata": {
        "id": "8jdrzA_8K9Xg"
      },
      "source": [
        "from pyspark.sql.functions import *\n",
        "mydata2 = mydata.withColumn(\"clean_city\", when(mydata.City.isNull(),\"Unknown\").otherwise(mydata.City))"
      ],
      "execution_count": 5,
      "outputs": []
    },
    {
      "cell_type": "code",
      "metadata": {
        "colab": {
          "base_uri": "https://localhost:8080/"
        },
        "id": "3H0LjkORMKgh",
        "outputId": "1bd0bda7-e531-4cbf-ad77-efbb299b8514"
      },
      "source": [
        "mydata2.show()"
      ],
      "execution_count": 6,
      "outputs": [
        {
          "output_type": "stream",
          "text": [
            "+---+----------+----------+------+---------------+--------------------+---------+----------+-----------+---------------+\n",
            "| id|first_name| last_name|gender|           City|            JobTitle|   Salary|  Latitude|  Longitude|     clean_city|\n",
            "+---+----------+----------+------+---------------+--------------------+---------+----------+-----------+---------------+\n",
            "|  1|   Melinde| Shilburne|Female|      Nowa Ruda| Assistant Professor|$57438.18|50.5774075| 16.4967184|      Nowa Ruda|\n",
            "|  2|  Kimberly|Von Welden|Female|         Bulgan|       Programmer II|$62846.60|48.8231572|103.5218199|         Bulgan|\n",
            "|  3|    Alvera|  Di Boldi|Female|           null|                null|$57576.52|39.9947462|116.3397725|        Unknown|\n",
            "|  4|   Shannon| O'Griffin|  Male|  Divnomorskoye|Budget/Accounting...|$61489.23|44.5047212| 38.1300171|  Divnomorskoye|\n",
            "|  5|  Sherwood|   Macieja|  Male|      Mytishchi|            VP Sales|$63863.09|      null| 37.6489954|      Mytishchi|\n",
            "|  6|     Maris|      Folk|Female|Kinsealy-Drinan|      Civil Engineer|$30101.16|53.4266145| -6.1644997|Kinsealy-Drinan|\n",
            "|  7|     Masha|    Divers|Female|         Dachun|                null|$25090.87| 24.879416| 118.930111|         Dachun|\n",
            "|  8|   Goddart|     Flear|  Male|      Trélissac|Desktop Support T...|$46116.36|45.1905186|  0.7423124|      Trélissac|\n",
            "|  9|      Roth|O'Cannavan|  Male|         Heitan|VP Product Manage...|$73697.10| 32.027934| 106.657113|         Heitan|\n",
            "| 10|      Bran|   Trahear|  Male|       Arbeláez|Mechanical System...|$68098.42|  4.272793| -74.416014|       Arbeláez|\n",
            "| 11|    Kylynn|   Lockart|Female|       El Cardo|Nuclear Power Eng...|$13604.63|     -5.85|-79.8833329|       El Cardo|\n",
            "| 12|       Rey|    Meharg|Female|    Wangqingtuo|Systems Administr...|$73423.70| 39.172378| 116.931607|    Wangqingtuo|\n",
            "| 13|      Kerr|    Braden|  Male|      Sułkowice|Compensation Analyst|$33432.99|49.8151822| 19.3771749|      Sułkowice|\n",
            "| 14|    Mickie| Whanstall|  Male|    Springfield|Assistant Media P...|$50838.53|42.1014803|-72.5766759|    Springfield|\n",
            "| 15|    Kaspar|     Pally|  Male|         Chrást|  Analyst Programmer|$40163.03|49.7923299| 13.4915324|         Chrást|\n",
            "| 16|    Norbie|    Gwyllt|  Male|         Xijiao|              Editor|$32492.73|43.4945737|  5.8978018|         Xijiao|\n",
            "| 17|    Claude|    Briant|Female|      Mieścisko|Research Assistan...|$51862.48|52.7441662| 17.3278637|      Mieścisko|\n",
            "| 18|     Thain|    Habbon|  Male| Foros do Trapo|     Design Engineer|$42135.67| 38.696249| -8.7098337| Foros do Trapo|\n",
            "| 19|  Tiffanie|  Pattison|Female|    Jabungsisir|Senior Financial ...|$91925.08|-7.7232567|113.4686802|    Jabungsisir|\n",
            "| 20|    Ettore|  Gerriets|  Male|          Pedra| Staff Accountant IV|$73921.33|40.7172049| -8.3625148|          Pedra|\n",
            "+---+----------+----------+------+---------------+--------------------+---------+----------+-----------+---------------+\n",
            "only showing top 20 rows\n",
            "\n"
          ],
          "name": "stdout"
        }
      ]
    },
    {
      "cell_type": "code",
      "metadata": {
        "id": "7fDoZA0fMP1X"
      },
      "source": [
        "mydata2 = mydata2.filter(mydata.JobTitle.is)"
      ],
      "execution_count": 7,
      "outputs": []
    },
    {
      "cell_type": "code",
      "metadata": {
        "colab": {
          "base_uri": "https://localhost:8080/"
        },
        "id": "5-Xy4BOaMpvj",
        "outputId": "a076b02d-6e4f-4dd5-aabe-1f2bfc658222"
      },
      "source": [
        "mydata2.show()"
      ],
      "execution_count": 8,
      "outputs": [
        {
          "output_type": "stream",
          "text": [
            "+---+----------+----------+------+---------------+--------------------+---------+----------+-----------+---------------+\n",
            "| id|first_name| last_name|gender|           City|            JobTitle|   Salary|  Latitude|  Longitude|     clean_city|\n",
            "+---+----------+----------+------+---------------+--------------------+---------+----------+-----------+---------------+\n",
            "|  1|   Melinde| Shilburne|Female|      Nowa Ruda| Assistant Professor|$57438.18|50.5774075| 16.4967184|      Nowa Ruda|\n",
            "|  2|  Kimberly|Von Welden|Female|         Bulgan|       Programmer II|$62846.60|48.8231572|103.5218199|         Bulgan|\n",
            "|  4|   Shannon| O'Griffin|  Male|  Divnomorskoye|Budget/Accounting...|$61489.23|44.5047212| 38.1300171|  Divnomorskoye|\n",
            "|  5|  Sherwood|   Macieja|  Male|      Mytishchi|            VP Sales|$63863.09|      null| 37.6489954|      Mytishchi|\n",
            "|  6|     Maris|      Folk|Female|Kinsealy-Drinan|      Civil Engineer|$30101.16|53.4266145| -6.1644997|Kinsealy-Drinan|\n",
            "|  8|   Goddart|     Flear|  Male|      Trélissac|Desktop Support T...|$46116.36|45.1905186|  0.7423124|      Trélissac|\n",
            "|  9|      Roth|O'Cannavan|  Male|         Heitan|VP Product Manage...|$73697.10| 32.027934| 106.657113|         Heitan|\n",
            "| 10|      Bran|   Trahear|  Male|       Arbeláez|Mechanical System...|$68098.42|  4.272793| -74.416014|       Arbeláez|\n",
            "| 11|    Kylynn|   Lockart|Female|       El Cardo|Nuclear Power Eng...|$13604.63|     -5.85|-79.8833329|       El Cardo|\n",
            "| 12|       Rey|    Meharg|Female|    Wangqingtuo|Systems Administr...|$73423.70| 39.172378| 116.931607|    Wangqingtuo|\n",
            "| 13|      Kerr|    Braden|  Male|      Sułkowice|Compensation Analyst|$33432.99|49.8151822| 19.3771749|      Sułkowice|\n",
            "| 14|    Mickie| Whanstall|  Male|    Springfield|Assistant Media P...|$50838.53|42.1014803|-72.5766759|    Springfield|\n",
            "| 15|    Kaspar|     Pally|  Male|         Chrást|  Analyst Programmer|$40163.03|49.7923299| 13.4915324|         Chrást|\n",
            "| 16|    Norbie|    Gwyllt|  Male|         Xijiao|              Editor|$32492.73|43.4945737|  5.8978018|         Xijiao|\n",
            "| 17|    Claude|    Briant|Female|      Mieścisko|Research Assistan...|$51862.48|52.7441662| 17.3278637|      Mieścisko|\n",
            "| 18|     Thain|    Habbon|  Male| Foros do Trapo|     Design Engineer|$42135.67| 38.696249| -8.7098337| Foros do Trapo|\n",
            "| 19|  Tiffanie|  Pattison|Female|    Jabungsisir|Senior Financial ...|$91925.08|-7.7232567|113.4686802|    Jabungsisir|\n",
            "| 20|    Ettore|  Gerriets|  Male|          Pedra| Staff Accountant IV|$73921.33|40.7172049| -8.3625148|          Pedra|\n",
            "| 21|      Alon|  Chasteau|  Male|          Xin’e|     Web Developer I|$62755.85|  49.16291|  127.98658|          Xin’e|\n",
            "| 22|   Guthrey|    Johnke|  Male|         Xijiao|         Developer I|$13708.03|40.7576842| 23.1342184|         Xijiao|\n",
            "+---+----------+----------+------+---------------+--------------------+---------+----------+-----------+---------------+\n",
            "only showing top 20 rows\n",
            "\n"
          ],
          "name": "stdout"
        }
      ]
    },
    {
      "cell_type": "code",
      "metadata": {
        "id": "iPiC-YdnMr-T"
      },
      "source": [
        "mydata2 = mydata2.withColumn(\"Clean_salary\",mydata2.Salary.substr(2,100).cast('float'))"
      ],
      "execution_count": 10,
      "outputs": []
    },
    {
      "cell_type": "code",
      "metadata": {
        "colab": {
          "base_uri": "https://localhost:8080/"
        },
        "id": "eWakTewkNIde",
        "outputId": "b46b015f-141f-40fc-b539-b8df8fecba89"
      },
      "source": [
        "mydata2.show()"
      ],
      "execution_count": 11,
      "outputs": [
        {
          "output_type": "stream",
          "text": [
            "+---+----------+----------+------+---------------+--------------------+---------+----------+-----------+---------------+------------+\n",
            "| id|first_name| last_name|gender|           City|            JobTitle|   Salary|  Latitude|  Longitude|     clean_city|Clean_salary|\n",
            "+---+----------+----------+------+---------------+--------------------+---------+----------+-----------+---------------+------------+\n",
            "|  1|   Melinde| Shilburne|Female|      Nowa Ruda| Assistant Professor|$57438.18|50.5774075| 16.4967184|      Nowa Ruda|    57438.18|\n",
            "|  2|  Kimberly|Von Welden|Female|         Bulgan|       Programmer II|$62846.60|48.8231572|103.5218199|         Bulgan|     62846.6|\n",
            "|  4|   Shannon| O'Griffin|  Male|  Divnomorskoye|Budget/Accounting...|$61489.23|44.5047212| 38.1300171|  Divnomorskoye|    61489.23|\n",
            "|  5|  Sherwood|   Macieja|  Male|      Mytishchi|            VP Sales|$63863.09|      null| 37.6489954|      Mytishchi|    63863.09|\n",
            "|  6|     Maris|      Folk|Female|Kinsealy-Drinan|      Civil Engineer|$30101.16|53.4266145| -6.1644997|Kinsealy-Drinan|    30101.16|\n",
            "|  8|   Goddart|     Flear|  Male|      Trélissac|Desktop Support T...|$46116.36|45.1905186|  0.7423124|      Trélissac|    46116.36|\n",
            "|  9|      Roth|O'Cannavan|  Male|         Heitan|VP Product Manage...|$73697.10| 32.027934| 106.657113|         Heitan|     73697.1|\n",
            "| 10|      Bran|   Trahear|  Male|       Arbeláez|Mechanical System...|$68098.42|  4.272793| -74.416014|       Arbeláez|    68098.42|\n",
            "| 11|    Kylynn|   Lockart|Female|       El Cardo|Nuclear Power Eng...|$13604.63|     -5.85|-79.8833329|       El Cardo|    13604.63|\n",
            "| 12|       Rey|    Meharg|Female|    Wangqingtuo|Systems Administr...|$73423.70| 39.172378| 116.931607|    Wangqingtuo|     73423.7|\n",
            "| 13|      Kerr|    Braden|  Male|      Sułkowice|Compensation Analyst|$33432.99|49.8151822| 19.3771749|      Sułkowice|    33432.99|\n",
            "| 14|    Mickie| Whanstall|  Male|    Springfield|Assistant Media P...|$50838.53|42.1014803|-72.5766759|    Springfield|    50838.53|\n",
            "| 15|    Kaspar|     Pally|  Male|         Chrást|  Analyst Programmer|$40163.03|49.7923299| 13.4915324|         Chrást|    40163.03|\n",
            "| 16|    Norbie|    Gwyllt|  Male|         Xijiao|              Editor|$32492.73|43.4945737|  5.8978018|         Xijiao|    32492.73|\n",
            "| 17|    Claude|    Briant|Female|      Mieścisko|Research Assistan...|$51862.48|52.7441662| 17.3278637|      Mieścisko|    51862.48|\n",
            "| 18|     Thain|    Habbon|  Male| Foros do Trapo|     Design Engineer|$42135.67| 38.696249| -8.7098337| Foros do Trapo|    42135.67|\n",
            "| 19|  Tiffanie|  Pattison|Female|    Jabungsisir|Senior Financial ...|$91925.08|-7.7232567|113.4686802|    Jabungsisir|    91925.08|\n",
            "| 20|    Ettore|  Gerriets|  Male|          Pedra| Staff Accountant IV|$73921.33|40.7172049| -8.3625148|          Pedra|    73921.33|\n",
            "| 21|      Alon|  Chasteau|  Male|          Xin’e|     Web Developer I|$62755.85|  49.16291|  127.98658|          Xin’e|    62755.85|\n",
            "| 22|   Guthrey|    Johnke|  Male|         Xijiao|         Developer I|$13708.03|40.7576842| 23.1342184|         Xijiao|    13708.03|\n",
            "+---+----------+----------+------+---------------+--------------------+---------+----------+-----------+---------------+------------+\n",
            "only showing top 20 rows\n",
            "\n"
          ],
          "name": "stdout"
        }
      ]
    },
    {
      "cell_type": "code",
      "metadata": {
        "id": "MNgUC-6UNo8B"
      },
      "source": [
        "mean = mydata2.groupBy().avg(\"clean_salary\").take(1)[0][0]"
      ],
      "execution_count": 18,
      "outputs": []
    },
    {
      "cell_type": "code",
      "metadata": {
        "colab": {
          "base_uri": "https://localhost:8080/"
        },
        "id": "suu3oHx-OFh0",
        "outputId": "8ffa3197-456c-4c90-ab26-8c8068ac0671"
      },
      "source": [
        "print(mean)"
      ],
      "execution_count": 19,
      "outputs": [
        {
          "output_type": "stream",
          "text": [
            "55516.32088199837\n"
          ],
          "name": "stdout"
        }
      ]
    },
    {
      "cell_type": "code",
      "metadata": {
        "id": "9sNyngxiOH-U"
      },
      "source": [
        "from pyspark.sql.functions import lit\n",
        "mydata2 = mydata2.withColumn(\"new_salary\", when(mydata2.Clean_salary.isNull(), lit(mean)).otherwise(mydata2.Clean_salary))\n"
      ],
      "execution_count": 29,
      "outputs": []
    },
    {
      "cell_type": "code",
      "metadata": {
        "colab": {
          "base_uri": "https://localhost:8080/"
        },
        "id": "kOP0rs9XZnpL",
        "outputId": "d6f7111a-697b-4c21-a4ab-4852414887fa"
      },
      "source": [
        "mydata2.show()"
      ],
      "execution_count": 30,
      "outputs": [
        {
          "output_type": "stream",
          "text": [
            "+---+----------+----------+------+---------------+--------------------+---------+----------+-----------+---------------+------------+----------------+\n",
            "| id|first_name| last_name|gender|           City|            JobTitle|   Salary|  Latitude|  Longitude|     clean_city|Clean_salary|      new_salary|\n",
            "+---+----------+----------+------+---------------+--------------------+---------+----------+-----------+---------------+------------+----------------+\n",
            "|  1|   Melinde| Shilburne|Female|      Nowa Ruda| Assistant Professor|$57438.18|50.5774075| 16.4967184|      Nowa Ruda|    57438.18|   57438.1796875|\n",
            "|  2|  Kimberly|Von Welden|Female|         Bulgan|       Programmer II|$62846.60|48.8231572|103.5218199|         Bulgan|     62846.6|   62846.6015625|\n",
            "|  4|   Shannon| O'Griffin|  Male|  Divnomorskoye|Budget/Accounting...|$61489.23|44.5047212| 38.1300171|  Divnomorskoye|    61489.23|  61489.23046875|\n",
            "|  5|  Sherwood|   Macieja|  Male|      Mytishchi|            VP Sales|$63863.09|      null| 37.6489954|      Mytishchi|    63863.09|  63863.08984375|\n",
            "|  6|     Maris|      Folk|Female|Kinsealy-Drinan|      Civil Engineer|$30101.16|53.4266145| -6.1644997|Kinsealy-Drinan|    30101.16|  30101.16015625|\n",
            "|  8|   Goddart|     Flear|  Male|      Trélissac|Desktop Support T...|$46116.36|45.1905186|  0.7423124|      Trélissac|    46116.36|    46116.359375|\n",
            "|  9|      Roth|O'Cannavan|  Male|         Heitan|VP Product Manage...|$73697.10| 32.027934| 106.657113|         Heitan|     73697.1|   73697.1015625|\n",
            "| 10|      Bran|   Trahear|  Male|       Arbeláez|Mechanical System...|$68098.42|  4.272793| -74.416014|       Arbeláez|    68098.42|    68098.421875|\n",
            "| 11|    Kylynn|   Lockart|Female|       El Cardo|Nuclear Power Eng...|$13604.63|     -5.85|-79.8833329|       El Cardo|    13604.63|13604.6298828125|\n",
            "| 12|       Rey|    Meharg|Female|    Wangqingtuo|Systems Administr...|$73423.70| 39.172378| 116.931607|    Wangqingtuo|     73423.7|    73423.703125|\n",
            "| 13|      Kerr|    Braden|  Male|      Sułkowice|Compensation Analyst|$33432.99|49.8151822| 19.3771749|      Sułkowice|    33432.99|  33432.98828125|\n",
            "| 14|    Mickie| Whanstall|  Male|    Springfield|Assistant Media P...|$50838.53|42.1014803|-72.5766759|    Springfield|    50838.53|     50838.53125|\n",
            "| 15|    Kaspar|     Pally|  Male|         Chrást|  Analyst Programmer|$40163.03|49.7923299| 13.4915324|         Chrást|    40163.03|     40163.03125|\n",
            "| 16|    Norbie|    Gwyllt|  Male|         Xijiao|              Editor|$32492.73|43.4945737|  5.8978018|         Xijiao|    32492.73|  32492.73046875|\n",
            "| 17|    Claude|    Briant|Female|      Mieścisko|Research Assistan...|$51862.48|52.7441662| 17.3278637|      Mieścisko|    51862.48|  51862.48046875|\n",
            "| 18|     Thain|    Habbon|  Male| Foros do Trapo|     Design Engineer|$42135.67| 38.696249| -8.7098337| Foros do Trapo|    42135.67|    42135.671875|\n",
            "| 19|  Tiffanie|  Pattison|Female|    Jabungsisir|Senior Financial ...|$91925.08|-7.7232567|113.4686802|    Jabungsisir|    91925.08|    91925.078125|\n",
            "| 20|    Ettore|  Gerriets|  Male|          Pedra| Staff Accountant IV|$73921.33|40.7172049| -8.3625148|          Pedra|    73921.33|    73921.328125|\n",
            "| 21|      Alon|  Chasteau|  Male|          Xin’e|     Web Developer I|$62755.85|  49.16291|  127.98658|          Xin’e|    62755.85|   62755.8515625|\n",
            "| 22|   Guthrey|    Johnke|  Male|         Xijiao|         Developer I|$13708.03|40.7576842| 23.1342184|         Xijiao|    13708.03|13708.0302734375|\n",
            "+---+----------+----------+------+---------------+--------------------+---------+----------+-----------+---------------+------------+----------------+\n",
            "only showing top 20 rows\n",
            "\n"
          ],
          "name": "stdout"
        }
      ]
    },
    {
      "cell_type": "code",
      "metadata": {
        "id": "HW2SVCDacSWE"
      },
      "source": [
        "import numpy as np\n",
        "latitude = mydata.select(\"latitude\")"
      ],
      "execution_count": 31,
      "outputs": []
    },
    {
      "cell_type": "code",
      "metadata": {
        "colab": {
          "base_uri": "https://localhost:8080/"
        },
        "id": "ph6Xonbmcz9v",
        "outputId": "81b8e660-6a42-4ba7-f907-532dd623018b"
      },
      "source": [
        "latitude.show()"
      ],
      "execution_count": 32,
      "outputs": [
        {
          "output_type": "stream",
          "text": [
            "+----------+\n",
            "|  latitude|\n",
            "+----------+\n",
            "|50.5774075|\n",
            "|48.8231572|\n",
            "|39.9947462|\n",
            "|44.5047212|\n",
            "|      null|\n",
            "|53.4266145|\n",
            "| 24.879416|\n",
            "|45.1905186|\n",
            "| 32.027934|\n",
            "|  4.272793|\n",
            "|     -5.85|\n",
            "| 39.172378|\n",
            "|49.8151822|\n",
            "|42.1014803|\n",
            "|49.7923299|\n",
            "|43.4945737|\n",
            "|52.7441662|\n",
            "| 38.696249|\n",
            "|-7.7232567|\n",
            "|40.7172049|\n",
            "+----------+\n",
            "only showing top 20 rows\n",
            "\n"
          ],
          "name": "stdout"
        }
      ]
    },
    {
      "cell_type": "code",
      "metadata": {
        "id": "9hovqQLTc2Dj"
      },
      "source": [
        "latitude = latitude.filter(latitude.latitude.isNotNull())"
      ],
      "execution_count": 35,
      "outputs": []
    },
    {
      "cell_type": "code",
      "metadata": {
        "colab": {
          "base_uri": "https://localhost:8080/"
        },
        "id": "x-n-nOdqdBOu",
        "outputId": "00dc0071-c174-4f77-e608-937abdc6ff9b"
      },
      "source": [
        "latitude.show()"
      ],
      "execution_count": 36,
      "outputs": [
        {
          "output_type": "stream",
          "text": [
            "+----------+\n",
            "|  latitude|\n",
            "+----------+\n",
            "|50.5774075|\n",
            "|48.8231572|\n",
            "|39.9947462|\n",
            "|44.5047212|\n",
            "|53.4266145|\n",
            "| 24.879416|\n",
            "|45.1905186|\n",
            "| 32.027934|\n",
            "|  4.272793|\n",
            "|     -5.85|\n",
            "| 39.172378|\n",
            "|49.8151822|\n",
            "|42.1014803|\n",
            "|49.7923299|\n",
            "|43.4945737|\n",
            "|52.7441662|\n",
            "| 38.696249|\n",
            "|-7.7232567|\n",
            "|40.7172049|\n",
            "|  49.16291|\n",
            "+----------+\n",
            "only showing top 20 rows\n",
            "\n"
          ],
          "name": "stdout"
        }
      ]
    },
    {
      "cell_type": "code",
      "metadata": {
        "id": "Dbz9dZrwdSQE"
      },
      "source": [
        "latitude = latitude.withColumn(\"latitudes2\", latitude.latitude.cast('float')).select(\"latitudes2\")"
      ],
      "execution_count": 37,
      "outputs": []
    },
    {
      "cell_type": "code",
      "metadata": {
        "colab": {
          "base_uri": "https://localhost:8080/"
        },
        "id": "FaYU-9PKdrHH",
        "outputId": "07af5e28-bfbc-46b8-f39f-1d8891a736b2"
      },
      "source": [
        "latitude.show()"
      ],
      "execution_count": 38,
      "outputs": [
        {
          "output_type": "stream",
          "text": [
            "+----------+\n",
            "|latitudes2|\n",
            "+----------+\n",
            "| 50.577408|\n",
            "|  48.82316|\n",
            "| 39.994747|\n",
            "| 44.504723|\n",
            "| 53.426613|\n",
            "| 24.879416|\n",
            "| 45.190517|\n",
            "| 32.027935|\n",
            "|  4.272793|\n",
            "|     -5.85|\n",
            "|  39.17238|\n",
            "|  49.81518|\n",
            "|  42.10148|\n",
            "|  49.79233|\n",
            "| 43.494576|\n",
            "| 52.744167|\n",
            "| 38.696247|\n",
            "|-7.7232566|\n",
            "| 40.717205|\n",
            "|  49.16291|\n",
            "+----------+\n",
            "only showing top 20 rows\n",
            "\n"
          ],
          "name": "stdout"
        }
      ]
    },
    {
      "cell_type": "code",
      "metadata": {
        "id": "b2LnQr7Udvs2"
      },
      "source": [
        "median = np.median(latitude.collect())"
      ],
      "execution_count": 39,
      "outputs": []
    },
    {
      "cell_type": "code",
      "metadata": {
        "colab": {
          "base_uri": "https://localhost:8080/"
        },
        "id": "Vb5BkwLxd8jB",
        "outputId": "1df1eeff-dc70-4265-899e-56e74fb1218b"
      },
      "source": [
        "print(median)"
      ],
      "execution_count": 40,
      "outputs": [
        {
          "output_type": "stream",
          "text": [
            "31.93397331237793\n"
          ],
          "name": "stdout"
        }
      ]
    },
    {
      "cell_type": "code",
      "metadata": {
        "id": "9a8WXp-gd-GV"
      },
      "source": [
        "mydata2 = mydata2.withColumn('lat',when(mydata2.Latitude.isNull(), lit(median)).otherwise(mydata2.Latitude))"
      ],
      "execution_count": 43,
      "outputs": []
    },
    {
      "cell_type": "code",
      "metadata": {
        "colab": {
          "base_uri": "https://localhost:8080/"
        },
        "id": "J8JKMLTAeRsY",
        "outputId": "edc8d570-57ff-4dc4-abee-0af6c1470be6"
      },
      "source": [
        "mydata2.show()"
      ],
      "execution_count": 44,
      "outputs": [
        {
          "output_type": "stream",
          "text": [
            "+---+----------+----------+------+---------------+--------------------+---------+----------+-----------+---------------+------------+----------------+-----------------+\n",
            "| id|first_name| last_name|gender|           City|            JobTitle|   Salary|  Latitude|  Longitude|     clean_city|Clean_salary|      new_salary|              lat|\n",
            "+---+----------+----------+------+---------------+--------------------+---------+----------+-----------+---------------+------------+----------------+-----------------+\n",
            "|  1|   Melinde| Shilburne|Female|      Nowa Ruda| Assistant Professor|$57438.18|50.5774075| 16.4967184|      Nowa Ruda|    57438.18|   57438.1796875|       50.5774075|\n",
            "|  2|  Kimberly|Von Welden|Female|         Bulgan|       Programmer II|$62846.60|48.8231572|103.5218199|         Bulgan|     62846.6|   62846.6015625|       48.8231572|\n",
            "|  4|   Shannon| O'Griffin|  Male|  Divnomorskoye|Budget/Accounting...|$61489.23|44.5047212| 38.1300171|  Divnomorskoye|    61489.23|  61489.23046875|       44.5047212|\n",
            "|  5|  Sherwood|   Macieja|  Male|      Mytishchi|            VP Sales|$63863.09|      null| 37.6489954|      Mytishchi|    63863.09|  63863.08984375|31.93397331237793|\n",
            "|  6|     Maris|      Folk|Female|Kinsealy-Drinan|      Civil Engineer|$30101.16|53.4266145| -6.1644997|Kinsealy-Drinan|    30101.16|  30101.16015625|       53.4266145|\n",
            "|  8|   Goddart|     Flear|  Male|      Trélissac|Desktop Support T...|$46116.36|45.1905186|  0.7423124|      Trélissac|    46116.36|    46116.359375|       45.1905186|\n",
            "|  9|      Roth|O'Cannavan|  Male|         Heitan|VP Product Manage...|$73697.10| 32.027934| 106.657113|         Heitan|     73697.1|   73697.1015625|        32.027934|\n",
            "| 10|      Bran|   Trahear|  Male|       Arbeláez|Mechanical System...|$68098.42|  4.272793| -74.416014|       Arbeláez|    68098.42|    68098.421875|         4.272793|\n",
            "| 11|    Kylynn|   Lockart|Female|       El Cardo|Nuclear Power Eng...|$13604.63|     -5.85|-79.8833329|       El Cardo|    13604.63|13604.6298828125|            -5.85|\n",
            "| 12|       Rey|    Meharg|Female|    Wangqingtuo|Systems Administr...|$73423.70| 39.172378| 116.931607|    Wangqingtuo|     73423.7|    73423.703125|        39.172378|\n",
            "| 13|      Kerr|    Braden|  Male|      Sułkowice|Compensation Analyst|$33432.99|49.8151822| 19.3771749|      Sułkowice|    33432.99|  33432.98828125|       49.8151822|\n",
            "| 14|    Mickie| Whanstall|  Male|    Springfield|Assistant Media P...|$50838.53|42.1014803|-72.5766759|    Springfield|    50838.53|     50838.53125|       42.1014803|\n",
            "| 15|    Kaspar|     Pally|  Male|         Chrást|  Analyst Programmer|$40163.03|49.7923299| 13.4915324|         Chrást|    40163.03|     40163.03125|       49.7923299|\n",
            "| 16|    Norbie|    Gwyllt|  Male|         Xijiao|              Editor|$32492.73|43.4945737|  5.8978018|         Xijiao|    32492.73|  32492.73046875|       43.4945737|\n",
            "| 17|    Claude|    Briant|Female|      Mieścisko|Research Assistan...|$51862.48|52.7441662| 17.3278637|      Mieścisko|    51862.48|  51862.48046875|       52.7441662|\n",
            "| 18|     Thain|    Habbon|  Male| Foros do Trapo|     Design Engineer|$42135.67| 38.696249| -8.7098337| Foros do Trapo|    42135.67|    42135.671875|        38.696249|\n",
            "| 19|  Tiffanie|  Pattison|Female|    Jabungsisir|Senior Financial ...|$91925.08|-7.7232567|113.4686802|    Jabungsisir|    91925.08|    91925.078125|       -7.7232567|\n",
            "| 20|    Ettore|  Gerriets|  Male|          Pedra| Staff Accountant IV|$73921.33|40.7172049| -8.3625148|          Pedra|    73921.33|    73921.328125|       40.7172049|\n",
            "| 21|      Alon|  Chasteau|  Male|          Xin’e|     Web Developer I|$62755.85|  49.16291|  127.98658|          Xin’e|    62755.85|   62755.8515625|         49.16291|\n",
            "| 22|   Guthrey|    Johnke|  Male|         Xijiao|         Developer I|$13708.03|40.7576842| 23.1342184|         Xijiao|    13708.03|13708.0302734375|       40.7576842|\n",
            "+---+----------+----------+------+---------------+--------------------+---------+----------+-----------+---------------+------------+----------------+-----------------+\n",
            "only showing top 20 rows\n",
            "\n"
          ],
          "name": "stdout"
        }
      ]
    },
    {
      "cell_type": "code",
      "metadata": {
        "id": "GwGYFDMYfAgU"
      },
      "source": [
        "import pyspark.sql.functions as sqlfunc\n",
        "genders = mydata2.groupBy(\"gender\").agg(sqlfunc.avg(\"new_salary\").alias(\"AvgSalary\"))"
      ],
      "execution_count": 45,
      "outputs": []
    },
    {
      "cell_type": "code",
      "metadata": {
        "colab": {
          "base_uri": "https://localhost:8080/"
        },
        "id": "BP7jLrgSf196",
        "outputId": "68ac8394-a08e-4172-dc8c-06ea7f05752c"
      },
      "source": [
        "genders.show()"
      ],
      "execution_count": 46,
      "outputs": [
        {
          "output_type": "stream",
          "text": [
            "+------+------------------+\n",
            "|gender|         AvgSalary|\n",
            "+------+------------------+\n",
            "|Female|55677.250125558036|\n",
            "|  Male| 55361.09385573019|\n",
            "+------+------------------+\n",
            "\n"
          ],
          "name": "stdout"
        }
      ]
    },
    {
      "cell_type": "code",
      "metadata": {
        "id": "lh5o6tVff4PB"
      },
      "source": [
        "df = mydata2.withColumn(\"female_salary\", when(mydata2.gender == 'Female', mydata2.new_salary).otherwise(lit(0)))"
      ],
      "execution_count": 48,
      "outputs": []
    },
    {
      "cell_type": "code",
      "metadata": {
        "colab": {
          "base_uri": "https://localhost:8080/"
        },
        "id": "wGmXMPn0ghHT",
        "outputId": "8720302e-25ab-4b9b-fb7a-8d70ba5b1f3b"
      },
      "source": [
        "df.show()"
      ],
      "execution_count": 49,
      "outputs": [
        {
          "output_type": "stream",
          "text": [
            "+---+----------+----------+------+---------------+--------------------+---------+----------+-----------+---------------+------------+----------------+-----------------+----------------+\n",
            "| id|first_name| last_name|gender|           City|            JobTitle|   Salary|  Latitude|  Longitude|     clean_city|Clean_salary|      new_salary|              lat|   female_salary|\n",
            "+---+----------+----------+------+---------------+--------------------+---------+----------+-----------+---------------+------------+----------------+-----------------+----------------+\n",
            "|  1|   Melinde| Shilburne|Female|      Nowa Ruda| Assistant Professor|$57438.18|50.5774075| 16.4967184|      Nowa Ruda|    57438.18|   57438.1796875|       50.5774075|   57438.1796875|\n",
            "|  2|  Kimberly|Von Welden|Female|         Bulgan|       Programmer II|$62846.60|48.8231572|103.5218199|         Bulgan|     62846.6|   62846.6015625|       48.8231572|   62846.6015625|\n",
            "|  4|   Shannon| O'Griffin|  Male|  Divnomorskoye|Budget/Accounting...|$61489.23|44.5047212| 38.1300171|  Divnomorskoye|    61489.23|  61489.23046875|       44.5047212|             0.0|\n",
            "|  5|  Sherwood|   Macieja|  Male|      Mytishchi|            VP Sales|$63863.09|      null| 37.6489954|      Mytishchi|    63863.09|  63863.08984375|31.93397331237793|             0.0|\n",
            "|  6|     Maris|      Folk|Female|Kinsealy-Drinan|      Civil Engineer|$30101.16|53.4266145| -6.1644997|Kinsealy-Drinan|    30101.16|  30101.16015625|       53.4266145|  30101.16015625|\n",
            "|  8|   Goddart|     Flear|  Male|      Trélissac|Desktop Support T...|$46116.36|45.1905186|  0.7423124|      Trélissac|    46116.36|    46116.359375|       45.1905186|             0.0|\n",
            "|  9|      Roth|O'Cannavan|  Male|         Heitan|VP Product Manage...|$73697.10| 32.027934| 106.657113|         Heitan|     73697.1|   73697.1015625|        32.027934|             0.0|\n",
            "| 10|      Bran|   Trahear|  Male|       Arbeláez|Mechanical System...|$68098.42|  4.272793| -74.416014|       Arbeláez|    68098.42|    68098.421875|         4.272793|             0.0|\n",
            "| 11|    Kylynn|   Lockart|Female|       El Cardo|Nuclear Power Eng...|$13604.63|     -5.85|-79.8833329|       El Cardo|    13604.63|13604.6298828125|            -5.85|13604.6298828125|\n",
            "| 12|       Rey|    Meharg|Female|    Wangqingtuo|Systems Administr...|$73423.70| 39.172378| 116.931607|    Wangqingtuo|     73423.7|    73423.703125|        39.172378|    73423.703125|\n",
            "| 13|      Kerr|    Braden|  Male|      Sułkowice|Compensation Analyst|$33432.99|49.8151822| 19.3771749|      Sułkowice|    33432.99|  33432.98828125|       49.8151822|             0.0|\n",
            "| 14|    Mickie| Whanstall|  Male|    Springfield|Assistant Media P...|$50838.53|42.1014803|-72.5766759|    Springfield|    50838.53|     50838.53125|       42.1014803|             0.0|\n",
            "| 15|    Kaspar|     Pally|  Male|         Chrást|  Analyst Programmer|$40163.03|49.7923299| 13.4915324|         Chrást|    40163.03|     40163.03125|       49.7923299|             0.0|\n",
            "| 16|    Norbie|    Gwyllt|  Male|         Xijiao|              Editor|$32492.73|43.4945737|  5.8978018|         Xijiao|    32492.73|  32492.73046875|       43.4945737|             0.0|\n",
            "| 17|    Claude|    Briant|Female|      Mieścisko|Research Assistan...|$51862.48|52.7441662| 17.3278637|      Mieścisko|    51862.48|  51862.48046875|       52.7441662|  51862.48046875|\n",
            "| 18|     Thain|    Habbon|  Male| Foros do Trapo|     Design Engineer|$42135.67| 38.696249| -8.7098337| Foros do Trapo|    42135.67|    42135.671875|        38.696249|             0.0|\n",
            "| 19|  Tiffanie|  Pattison|Female|    Jabungsisir|Senior Financial ...|$91925.08|-7.7232567|113.4686802|    Jabungsisir|    91925.08|    91925.078125|       -7.7232567|    91925.078125|\n",
            "| 20|    Ettore|  Gerriets|  Male|          Pedra| Staff Accountant IV|$73921.33|40.7172049| -8.3625148|          Pedra|    73921.33|    73921.328125|       40.7172049|             0.0|\n",
            "| 21|      Alon|  Chasteau|  Male|          Xin’e|     Web Developer I|$62755.85|  49.16291|  127.98658|          Xin’e|    62755.85|   62755.8515625|         49.16291|             0.0|\n",
            "| 22|   Guthrey|    Johnke|  Male|         Xijiao|         Developer I|$13708.03|40.7576842| 23.1342184|         Xijiao|    13708.03|13708.0302734375|       40.7576842|             0.0|\n",
            "+---+----------+----------+------+---------------+--------------------+---------+----------+-----------+---------------+------------+----------------+-----------------+----------------+\n",
            "only showing top 20 rows\n",
            "\n"
          ],
          "name": "stdout"
        }
      ]
    },
    {
      "cell_type": "code",
      "metadata": {
        "id": "lsOx7VPDgrMW"
      },
      "source": [
        "df = df.withColumn(\"male_salary\", when(df.gender == 'Male', df.new_salary).otherwise(lit(0)))"
      ],
      "execution_count": 50,
      "outputs": []
    },
    {
      "cell_type": "code",
      "metadata": {
        "colab": {
          "base_uri": "https://localhost:8080/"
        },
        "id": "B6LQcS5Sg8kN",
        "outputId": "60d4403a-9a05-40e6-9741-b3d372f32ecd"
      },
      "source": [
        "df.show()"
      ],
      "execution_count": 51,
      "outputs": [
        {
          "output_type": "stream",
          "text": [
            "+---+----------+----------+------+---------------+--------------------+---------+----------+-----------+---------------+------------+----------------+-----------------+----------------+----------------+\n",
            "| id|first_name| last_name|gender|           City|            JobTitle|   Salary|  Latitude|  Longitude|     clean_city|Clean_salary|      new_salary|              lat|   female_salary|     male_salary|\n",
            "+---+----------+----------+------+---------------+--------------------+---------+----------+-----------+---------------+------------+----------------+-----------------+----------------+----------------+\n",
            "|  1|   Melinde| Shilburne|Female|      Nowa Ruda| Assistant Professor|$57438.18|50.5774075| 16.4967184|      Nowa Ruda|    57438.18|   57438.1796875|       50.5774075|   57438.1796875|             0.0|\n",
            "|  2|  Kimberly|Von Welden|Female|         Bulgan|       Programmer II|$62846.60|48.8231572|103.5218199|         Bulgan|     62846.6|   62846.6015625|       48.8231572|   62846.6015625|             0.0|\n",
            "|  4|   Shannon| O'Griffin|  Male|  Divnomorskoye|Budget/Accounting...|$61489.23|44.5047212| 38.1300171|  Divnomorskoye|    61489.23|  61489.23046875|       44.5047212|             0.0|  61489.23046875|\n",
            "|  5|  Sherwood|   Macieja|  Male|      Mytishchi|            VP Sales|$63863.09|      null| 37.6489954|      Mytishchi|    63863.09|  63863.08984375|31.93397331237793|             0.0|  63863.08984375|\n",
            "|  6|     Maris|      Folk|Female|Kinsealy-Drinan|      Civil Engineer|$30101.16|53.4266145| -6.1644997|Kinsealy-Drinan|    30101.16|  30101.16015625|       53.4266145|  30101.16015625|             0.0|\n",
            "|  8|   Goddart|     Flear|  Male|      Trélissac|Desktop Support T...|$46116.36|45.1905186|  0.7423124|      Trélissac|    46116.36|    46116.359375|       45.1905186|             0.0|    46116.359375|\n",
            "|  9|      Roth|O'Cannavan|  Male|         Heitan|VP Product Manage...|$73697.10| 32.027934| 106.657113|         Heitan|     73697.1|   73697.1015625|        32.027934|             0.0|   73697.1015625|\n",
            "| 10|      Bran|   Trahear|  Male|       Arbeláez|Mechanical System...|$68098.42|  4.272793| -74.416014|       Arbeláez|    68098.42|    68098.421875|         4.272793|             0.0|    68098.421875|\n",
            "| 11|    Kylynn|   Lockart|Female|       El Cardo|Nuclear Power Eng...|$13604.63|     -5.85|-79.8833329|       El Cardo|    13604.63|13604.6298828125|            -5.85|13604.6298828125|             0.0|\n",
            "| 12|       Rey|    Meharg|Female|    Wangqingtuo|Systems Administr...|$73423.70| 39.172378| 116.931607|    Wangqingtuo|     73423.7|    73423.703125|        39.172378|    73423.703125|             0.0|\n",
            "| 13|      Kerr|    Braden|  Male|      Sułkowice|Compensation Analyst|$33432.99|49.8151822| 19.3771749|      Sułkowice|    33432.99|  33432.98828125|       49.8151822|             0.0|  33432.98828125|\n",
            "| 14|    Mickie| Whanstall|  Male|    Springfield|Assistant Media P...|$50838.53|42.1014803|-72.5766759|    Springfield|    50838.53|     50838.53125|       42.1014803|             0.0|     50838.53125|\n",
            "| 15|    Kaspar|     Pally|  Male|         Chrást|  Analyst Programmer|$40163.03|49.7923299| 13.4915324|         Chrást|    40163.03|     40163.03125|       49.7923299|             0.0|     40163.03125|\n",
            "| 16|    Norbie|    Gwyllt|  Male|         Xijiao|              Editor|$32492.73|43.4945737|  5.8978018|         Xijiao|    32492.73|  32492.73046875|       43.4945737|             0.0|  32492.73046875|\n",
            "| 17|    Claude|    Briant|Female|      Mieścisko|Research Assistan...|$51862.48|52.7441662| 17.3278637|      Mieścisko|    51862.48|  51862.48046875|       52.7441662|  51862.48046875|             0.0|\n",
            "| 18|     Thain|    Habbon|  Male| Foros do Trapo|     Design Engineer|$42135.67| 38.696249| -8.7098337| Foros do Trapo|    42135.67|    42135.671875|        38.696249|             0.0|    42135.671875|\n",
            "| 19|  Tiffanie|  Pattison|Female|    Jabungsisir|Senior Financial ...|$91925.08|-7.7232567|113.4686802|    Jabungsisir|    91925.08|    91925.078125|       -7.7232567|    91925.078125|             0.0|\n",
            "| 20|    Ettore|  Gerriets|  Male|          Pedra| Staff Accountant IV|$73921.33|40.7172049| -8.3625148|          Pedra|    73921.33|    73921.328125|       40.7172049|             0.0|    73921.328125|\n",
            "| 21|      Alon|  Chasteau|  Male|          Xin’e|     Web Developer I|$62755.85|  49.16291|  127.98658|          Xin’e|    62755.85|   62755.8515625|         49.16291|             0.0|   62755.8515625|\n",
            "| 22|   Guthrey|    Johnke|  Male|         Xijiao|         Developer I|$13708.03|40.7576842| 23.1342184|         Xijiao|    13708.03|13708.0302734375|       40.7576842|             0.0|13708.0302734375|\n",
            "+---+----------+----------+------+---------------+--------------------+---------+----------+-----------+---------------+------------+----------------+-----------------+----------------+----------------+\n",
            "only showing top 20 rows\n",
            "\n"
          ],
          "name": "stdout"
        }
      ]
    },
    {
      "cell_type": "code",
      "metadata": {
        "id": "wJrPj-sTg-Ml"
      },
      "source": [
        "df = df.groupBy(\"JobTitle\").agg(sqlfunc.avg('female_salary').alias('final_female_salary'), sqlfunc.avg('male_salary').alias('final_male_salary'))"
      ],
      "execution_count": 52,
      "outputs": []
    },
    {
      "cell_type": "code",
      "metadata": {
        "colab": {
          "base_uri": "https://localhost:8080/"
        },
        "id": "n5NaELUAhihe",
        "outputId": "ba41dbf7-dc32-4055-925c-bf92b2e1fb65"
      },
      "source": [
        "df.show()"
      ],
      "execution_count": 53,
      "outputs": [
        {
          "output_type": "stream",
          "text": [
            "+--------------------+-------------------+------------------+\n",
            "|            JobTitle|final_female_salary| final_male_salary|\n",
            "+--------------------+-------------------+------------------+\n",
            "|Systems Administr...|    50590.474609375|  15540.9501953125|\n",
            "|   Media Manager III| 29586.436197916668|17381.920572916668|\n",
            "|  Recruiting Manager| 34848.452473958336|  26383.4951171875|\n",
            "|       Geologist III|       31749.046875|    12830.75390625|\n",
            "|        Geologist II|                0.0|   43293.865234375|\n",
            "|Database Administ...|                0.0|     52018.4609375|\n",
            "|   Financial Analyst|    23353.776953125|       39606.05625|\n",
            "|  Analyst Programmer|   16406.1287109375|  21042.9634765625|\n",
            "|Software Engineer II|                0.0|      74782.640625|\n",
            "|       Accountant IV|    82732.248046875|               0.0|\n",
            "|    Product Engineer|     41825.48359375|       20464.94375|\n",
            "|Software Test Eng...|   32218.6083984375|   27122.462890625|\n",
            "|Safety Technician...|                0.0|   29421.529296875|\n",
            "|    Junior Executive| 15752.220052083334|49510.330729166664|\n",
            "|Systems Administr...|        77059.21875|               0.0|\n",
            "|Human Resources A...|    24022.662109375| 16609.27783203125|\n",
            "|        VP Marketing|  7981.178385416667|52844.534830729164|\n",
            "|  Environmental Tech| 13706.980143229166|      45660.890625|\n",
            "|Mechanical System...| 31370.781901041668|44321.593098958336|\n",
            "| Assistant Professor|    22175.953515625|   26912.770703125|\n",
            "+--------------------+-------------------+------------------+\n",
            "only showing top 20 rows\n",
            "\n"
          ],
          "name": "stdout"
        }
      ]
    },
    {
      "cell_type": "code",
      "metadata": {
        "id": "2j5v5cSUhkI3"
      },
      "source": [
        "df = df.withColumn(\"delta\", df.final_female_salary - df.final_male_salary)"
      ],
      "execution_count": 54,
      "outputs": []
    },
    {
      "cell_type": "code",
      "metadata": {
        "colab": {
          "base_uri": "https://localhost:8080/"
        },
        "id": "-LXif2Qnh2Ch",
        "outputId": "93bbbff6-4c5b-489d-b089-734506c91eff"
      },
      "source": [
        "df.show()"
      ],
      "execution_count": 55,
      "outputs": [
        {
          "output_type": "stream",
          "text": [
            "+--------------------+-------------------+------------------+-------------------+\n",
            "|            JobTitle|final_female_salary| final_male_salary|              delta|\n",
            "+--------------------+-------------------+------------------+-------------------+\n",
            "|Systems Administr...|    50590.474609375|  15540.9501953125|   35049.5244140625|\n",
            "|   Media Manager III| 29586.436197916668|17381.920572916668|       12204.515625|\n",
            "|  Recruiting Manager| 34848.452473958336|  26383.4951171875|  8464.957356770836|\n",
            "|       Geologist III|       31749.046875|    12830.75390625|     18918.29296875|\n",
            "|        Geologist II|                0.0|   43293.865234375|   -43293.865234375|\n",
            "|Database Administ...|                0.0|     52018.4609375|     -52018.4609375|\n",
            "|   Financial Analyst|    23353.776953125|       39606.05625|   -16252.279296875|\n",
            "|  Analyst Programmer|   16406.1287109375|  21042.9634765625| -4636.834765625001|\n",
            "|Software Engineer II|                0.0|      74782.640625|      -74782.640625|\n",
            "|       Accountant IV|    82732.248046875|               0.0|    82732.248046875|\n",
            "|    Product Engineer|     41825.48359375|       20464.94375| 21360.539843750004|\n",
            "|Software Test Eng...|   32218.6083984375|   27122.462890625|    5096.1455078125|\n",
            "|Safety Technician...|                0.0|   29421.529296875|   -29421.529296875|\n",
            "|    Junior Executive| 15752.220052083334|49510.330729166664| -33758.11067708333|\n",
            "|Systems Administr...|        77059.21875|               0.0|        77059.21875|\n",
            "|Human Resources A...|    24022.662109375| 16609.27783203125|   7413.38427734375|\n",
            "|        VP Marketing|  7981.178385416667|52844.534830729164|  -44863.3564453125|\n",
            "|  Environmental Tech| 13706.980143229166|      45660.890625|-31953.910481770836|\n",
            "|Mechanical System...| 31370.781901041668|44321.593098958336|-12950.811197916668|\n",
            "| Assistant Professor|    22175.953515625|   26912.770703125| -4736.817187500001|\n",
            "+--------------------+-------------------+------------------+-------------------+\n",
            "only showing top 20 rows\n",
            "\n"
          ],
          "name": "stdout"
        }
      ]
    },
    {
      "cell_type": "code",
      "metadata": {
        "id": "NSiPtsSMh3ZY"
      },
      "source": [
        "cityavg = mydata2.groupBy('City').agg(sqlfunc.avg(\"new_salary\").alias('avgsalary'))"
      ],
      "execution_count": 59,
      "outputs": []
    },
    {
      "cell_type": "code",
      "metadata": {
        "id": "7qESnbMCiMHE"
      },
      "source": [
        "cityavg = cityavg.sort(col('avgsalary').desc())"
      ],
      "execution_count": 61,
      "outputs": []
    },
    {
      "cell_type": "code",
      "metadata": {
        "colab": {
          "base_uri": "https://localhost:8080/"
        },
        "id": "4F0i7xwbi1cV",
        "outputId": "fca98999-fde5-44f5-d88c-8161a667334f"
      },
      "source": [
        "cityavg.show()"
      ],
      "execution_count": 62,
      "outputs": [
        {
          "output_type": "stream",
          "text": [
            "+-----------------+-------------+\n",
            "|             City|    avgsalary|\n",
            "+-----------------+-------------+\n",
            "|        Mesopotam|  99948.28125|\n",
            "|       Zhongcheng| 99942.921875|\n",
            "|           Caxias|99786.3984375|\n",
            "|      Karangtawar|99638.9921875|\n",
            "|        Itabaiana|  99502.15625|\n",
            "|           Pasian|  99421.34375|\n",
            "|           Webuye| 99368.546875|\n",
            "|      Yuktae-dong| 99250.828125|\n",
            "|           Zinder|  99222.84375|\n",
            "|   Timiryazevskiy|   99142.9375|\n",
            "|        Sawahbaru|99013.7109375|\n",
            "|          Madimba|98737.8671875|\n",
            "|         Huangshi|  98690.34375|\n",
            "|          Gharyan|   98679.3125|\n",
            "|         Yŏnan-ŭp| 98628.609375|\n",
            "|     Wringinputih|98603.8203125|\n",
            "|Monte da Boavista|  98586.71875|\n",
            "|          Klukeng|98439.4921875|\n",
            "|         Murmashi|  98226.15625|\n",
            "|        Fox Creek|      98138.0|\n",
            "+-----------------+-------------+\n",
            "only showing top 20 rows\n",
            "\n"
          ],
          "name": "stdout"
        }
      ]
    },
    {
      "cell_type": "code",
      "metadata": {
        "id": "wY_Hv5kkjKKn"
      },
      "source": [
        ""
      ],
      "execution_count": null,
      "outputs": []
    }
  ]
}